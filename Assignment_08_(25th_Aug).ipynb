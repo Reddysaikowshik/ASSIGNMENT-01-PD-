{
  "nbformat": 4,
  "nbformat_minor": 0,
  "metadata": {
    "colab": {
      "provenance": [],
      "authorship_tag": "ABX9TyNwMIJIJZYsVLmXaU+veIHg",
      "include_colab_link": true
    },
    "kernelspec": {
      "name": "python3",
      "display_name": "Python 3"
    },
    "language_info": {
      "name": "python"
    }
  },
  "cells": [
    {
      "cell_type": "markdown",
      "metadata": {
        "id": "view-in-github",
        "colab_type": "text"
      },
      "source": [
        "<a href=\"https://colab.research.google.com/github/Reddysaikowshik/PYTHON-FOR-DATA-SCIENCE/blob/main/Assignment_08_(25th_Aug).ipynb\" target=\"_parent\"><img src=\"https://colab.research.google.com/assets/colab-badge.svg\" alt=\"Open In Colab\"/></a>"
      ]
    },
    {
      "cell_type": "code",
      "execution_count": 1,
      "metadata": {
        "colab": {
          "base_uri": "https://localhost:8080/"
        },
        "id": "UxaquPN6rVxV",
        "outputId": "1fadf557-f0ab-4d0a-b16a-be3313b4ccb0"
      },
      "outputs": [
        {
          "output_type": "stream",
          "name": "stdout",
          "text": [
            "Filtered Elderly Female Diabetes Patients:\n",
            "\n",
            "   Patient_ID   Name   Age  Gender Diagnosis Admission_Date\n",
            "0           1  Alice  65.0  Female  Diabetes     2025-08-01\n",
            "2           3  Cathy  60.0  Female  Diabetes     2025-08-03\n",
            "4           5    Eva  55.0  Female  Diabetes     2025-08-05\n",
            "5           6  Fiona  60.0  Female  Diabetes     2025-08-06\n"
          ]
        },
        {
          "output_type": "stream",
          "name": "stderr",
          "text": [
            "/tmp/ipython-input-2134517648.py:16: FutureWarning: A value is trying to be set on a copy of a DataFrame or Series through chained assignment using an inplace method.\n",
            "The behavior will change in pandas 3.0. This inplace method will never work because the intermediate object on which we are setting values always behaves as a copy.\n",
            "\n",
            "For example, when doing 'df[col].method(value, inplace=True)', try using 'df.method({col: value}, inplace=True)' or df[col] = df[col].method(value) instead, to perform the operation inplace on the original object.\n",
            "\n",
            "\n",
            "  df[\"Age\"].fillna(df[\"Age\"].median(), inplace=True)\n"
          ]
        }
      ],
      "source": [
        "import pandas as pd\n",
        "\n",
        "data = {\n",
        "    \"Patient_ID\": [1, 2, 3, 4, 5, 6],\n",
        "    \"Name\": [\"Alice\", \"Bob\", \"Cathy\", \"David\", \"Eva\", \"Fiona\"],\n",
        "    \"Age\": [65, 40, None, 72, 55, None],\n",
        "    \"Gender\": [\"Female\", \"Male\", \"Female\", \"Male\", \"Female\", \"Female\"],\n",
        "    \"Diagnosis\": [\"Diabetes\", \"Flu\", \"Diabetes\", \"Asthma\", \"Diabetes\", \"Diabetes\"],\n",
        "    \"Admission_Date\": [\"2025-08-01\", \"2025-08-02\", \"2025-08-03\", \"2025-08-04\", \"2025-08-05\", \"2025-08-06\"]\n",
        "}\n",
        "\n",
        "df_sample = pd.DataFrame(data)\n",
        "df_sample.to_csv(\"patients.csv\", index=False)\n",
        "\n",
        "df = pd.read_csv(\"patients.csv\")\n",
        "df[\"Age\"].fillna(df[\"Age\"].median(), inplace=True)\n",
        "elderly_females = df[(df[\"Gender\"] == \"Female\") & (df[\"Age\"] > 50) & (df[\"Diagnosis\"].str.lower() == \"diabetes\")]\n",
        "print(\"Filtered Elderly Female Diabetes Patients:\\n\")\n",
        "print(elderly_females)\n"
      ]
    }
  ]
}
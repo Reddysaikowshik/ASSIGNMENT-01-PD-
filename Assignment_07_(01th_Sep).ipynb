{
  "nbformat": 4,
  "nbformat_minor": 0,
  "metadata": {
    "colab": {
      "provenance": [],
      "authorship_tag": "ABX9TyOQe7PF7Y/0oqfhaUE4+MyG",
      "include_colab_link": true
    },
    "kernelspec": {
      "name": "python3",
      "display_name": "Python 3"
    },
    "language_info": {
      "name": "python"
    }
  },
  "cells": [
    {
      "cell_type": "markdown",
      "metadata": {
        "id": "view-in-github",
        "colab_type": "text"
      },
      "source": [
        "<a href=\"https://colab.research.google.com/github/Reddysaikowshik/PYTHON-FOR-DATA-SCIENCE/blob/main/Assignment_07_(01th_Sep).ipynb\" target=\"_parent\"><img src=\"https://colab.research.google.com/assets/colab-badge.svg\" alt=\"Open In Colab\"/></a>"
      ]
    },
    {
      "cell_type": "code",
      "source": [
        "import pandas as pd"
      ],
      "metadata": {
        "id": "PR9AnrqMpy3k"
      },
      "execution_count": 12,
      "outputs": []
    },
    {
      "cell_type": "code",
      "source": [
        "df = pd.read_csv(\"student_scores.csv\")"
      ],
      "metadata": {
        "id": "EDp76hyFp3nx"
      },
      "execution_count": 13,
      "outputs": []
    },
    {
      "cell_type": "code",
      "source": [
        "df.fillna(df.mean(numeric_only=True), inplace=True)\n",
        "high_achievers = df[(df[\"Math\"] > 75) & (df[\"Science\"] > 75) & (df[\"English\"] > 75)]"
      ],
      "metadata": {
        "id": "9CeYh5L4p8GA"
      },
      "execution_count": 14,
      "outputs": []
    },
    {
      "cell_type": "code",
      "source": [
        "print(high_achievers)"
      ],
      "metadata": {
        "colab": {
          "base_uri": "https://localhost:8080/"
        },
        "id": "c3zJcEVxp-kk",
        "outputId": "958404b0-ccec-47a4-ce44-3162798ff355"
      },
      "execution_count": 15,
      "outputs": [
        {
          "output_type": "stream",
          "name": "stdout",
          "text": [
            "      Name  Math  Science  English\n",
            "0    Alice    80       78       85\n",
            "2  Charlie    90       85       92\n",
            "4      Eve    88       92       95\n"
          ]
        }
      ]
    }
  ]
}
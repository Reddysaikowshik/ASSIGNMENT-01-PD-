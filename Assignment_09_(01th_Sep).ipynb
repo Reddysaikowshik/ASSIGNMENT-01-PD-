{
  "nbformat": 4,
  "nbformat_minor": 0,
  "metadata": {
    "colab": {
      "provenance": [],
      "authorship_tag": "ABX9TyPguf+63bHWdC6TQEhs0Luc",
      "include_colab_link": true
    },
    "kernelspec": {
      "name": "python3",
      "display_name": "Python 3"
    },
    "language_info": {
      "name": "python"
    }
  },
  "cells": [
    {
      "cell_type": "markdown",
      "metadata": {
        "id": "view-in-github",
        "colab_type": "text"
      },
      "source": [
        "<a href=\"https://colab.research.google.com/github/Reddysaikowshik/PYTHON-FOR-DATA-SCIENCE/blob/main/Assignment_07_(01th_Sep).ipynb\" target=\"_parent\"><img src=\"https://colab.research.google.com/assets/colab-badge.svg\" alt=\"Open In Colab\"/></a>"
      ]
    },
    {
      "cell_type": "code",
      "execution_count": 2,
      "metadata": {
        "colab": {
          "base_uri": "https://localhost:8080/"
        },
        "id": "XkJE-J5xj6ff",
        "outputId": "a9a9e26b-6afc-4a0e-862f-f7a8e5f2c809"
      },
      "outputs": [
        {
          "output_type": "stream",
          "name": "stdout",
          "text": [
            "--- Students Dataset ---\n",
            "   student_id     name    major\n",
            "0         101    Alice     Math\n",
            "1         102      Bob  Science\n",
            "2         103  Charlie     Math\n",
            "3         104    David  History\n",
            "4         105      Eve  Science\n",
            "\n",
            "--- Scores Dataset ---\n",
            "   student_id  score\n",
            "0         101     85\n",
            "1         102     92\n",
            "2         103     78\n",
            "3         106     88\n",
            "\n",
            "--- Inner Join ---\n",
            "   student_id     name    major  score\n",
            "0         101    Alice     Math     85\n",
            "1         102      Bob  Science     92\n",
            "2         103  Charlie     Math     78\n",
            "\n",
            "--- Left Join ---\n",
            "   student_id     name    major  score\n",
            "0         101    Alice     Math   85.0\n",
            "1         102      Bob  Science   92.0\n",
            "2         103  Charlie     Math   78.0\n",
            "3         104    David  History    NaN\n",
            "4         105      Eve  Science    NaN\n",
            "\n",
            "--- Right Join ---\n",
            "   student_id     name    major  score\n",
            "0         101    Alice     Math     85\n",
            "1         102      Bob  Science     92\n",
            "2         103  Charlie     Math     78\n",
            "3         106      NaN      NaN     88\n",
            "\n",
            "--- Aggregate Statistics for Inner Join ---\n",
            "Mean Score: 85.00\n",
            "Max Score: 92\n",
            "Min Score: 78\n",
            "Count of Scores: 3\n",
            "\n",
            "--- Descriptive Statistics Summary ---\n",
            "count     3.0\n",
            "mean     85.0\n",
            "std       7.0\n",
            "min      78.0\n",
            "25%      81.5\n",
            "50%      85.0\n",
            "75%      88.5\n",
            "max      92.0\n",
            "Name: score, dtype: float64\n",
            "\n",
            "--- Grouped Statistics by Major ---\n",
            "         mean  max  min  count\n",
            "major                         \n",
            "Math     81.5   85   78      2\n",
            "Science  92.0   92   92      1\n"
          ]
        }
      ],
      "source": [
        "import pandas as pd\n",
        "import numpy as np\n",
        "\n",
        "students_data = {\n",
        "    'student_id': [101, 102, 103, 104, 105],\n",
        "    'name': ['Alice', 'Bob', 'Charlie', 'David', 'Eve'],\n",
        "    'major': ['Math', 'Science', 'Math', 'History', 'Science']\n",
        "}\n",
        "students_df = pd.DataFrame(students_data)\n",
        "\n",
        "scores_data = {\n",
        "    'student_id': [101, 102, 103, 106],\n",
        "    'score': [85, 92, 78, 88]\n",
        "}\n",
        "scores_df = pd.DataFrame(scores_data)\n",
        "\n",
        "print(\"--- Students Dataset ---\")\n",
        "print(students_df)\n",
        "print(\"\\n--- Scores Dataset ---\")\n",
        "print(scores_df)\n",
        "\n",
        "inner_merged_df = pd.merge(students_df, scores_df, on='student_id', how='inner')\n",
        "print(\"\\n--- Inner Join ---\")\n",
        "print(inner_merged_df)\n",
        "\n",
        "left_merged_df = pd.merge(students_df, scores_df, on='student_id', how='left')\n",
        "print(\"\\n--- Left Join ---\")\n",
        "print(left_merged_df)\n",
        "\n",
        "right_merged_df = pd.merge(students_df, scores_df, on='student_id', how='right')\n",
        "print(\"\\n--- Right Join ---\")\n",
        "print(right_merged_df)\n",
        "\n",
        "print(\"\\n--- Aggregate Statistics for Inner Join ---\")\n",
        "mean_score = inner_merged_df['score'].mean()\n",
        "max_score = inner_merged_df['score'].max()\n",
        "min_score = inner_merged_df['score'].min()\n",
        "score_count = inner_merged_df['score'].count()\n",
        "\n",
        "print(f\"Mean Score: {mean_score:.2f}\")\n",
        "print(f\"Max Score: {max_score}\")\n",
        "print(f\"Min Score: {min_score}\")\n",
        "print(f\"Count of Scores: {score_count}\")\n",
        "\n",
        "print(\"\\n--- Descriptive Statistics Summary ---\")\n",
        "print(inner_merged_df['score'].describe())\n",
        "\n",
        "print(\"\\n--- Grouped Statistics by Major ---\")\n",
        "grouped_stats = inner_merged_df.groupby('major')['score'].agg(['mean', 'max', 'min', 'count'])\n",
        "print(grouped_stats)"
      ]
    }
  ]
}

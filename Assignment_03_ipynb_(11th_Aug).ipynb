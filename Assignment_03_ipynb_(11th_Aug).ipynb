{
  "nbformat": 4,
  "nbformat_minor": 0,
  "metadata": {
    "colab": {
      "provenance": [],
      "authorship_tag": "ABX9TyOSI6H/wstO53asmUXDGPC9",
      "include_colab_link": true
    },
    "kernelspec": {
      "name": "python3",
      "display_name": "Python 3"
    },
    "language_info": {
      "name": "python"
    }
  },
  "cells": [
    {
      "cell_type": "markdown",
      "metadata": {
        "id": "view-in-github",
        "colab_type": "text"
      },
      "source": [
        "<a href=\"https://colab.research.google.com/github/Reddysaikowshik/PYTHON-FOR-DATA-SCIENCE/blob/main/Assignment_03_ipynb_(11th_Aug).ipynb\" target=\"_parent\"><img src=\"https://colab.research.google.com/assets/colab-badge.svg\" alt=\"Open In Colab\"/></a>"
      ]
    },
    {
      "cell_type": "code",
      "execution_count": 2,
      "metadata": {
        "colab": {
          "base_uri": "https://localhost:8080/"
        },
        "id": "VTdlrryBaS5z",
        "outputId": "61672173-8d4b-4eeb-b6a9-39d97c77f54a"
      },
      "outputs": [
        {
          "output_type": "stream",
          "name": "stdout",
          "text": [
            "Initial DataFrame:\n",
            "   Order ID   Product  Quantity  Price\n",
            "0       101    Laptop         2  55000\n",
            "1       102     Mouse         5    500\n",
            "2       103  Keyboard         3   1500\n",
            "3       104    Laptop         1  56000\n",
            "4       105   Monitor         2  12000\n",
            "5       106     Mouse        10    450\n",
            "\n",
            "DataFrame with Total Sale column:\n",
            "   Order ID   Product  Quantity  Price  Total Sale\n",
            "0       101    Laptop         2  55000      110000\n",
            "1       102     Mouse         5    500        2500\n",
            "2       103  Keyboard         3   1500        4500\n",
            "3       104    Laptop         1  56000       56000\n",
            "4       105   Monitor         2  12000       24000\n",
            "5       106     Mouse        10    450        4500\n",
            "\n",
            "Orders with Total Sale > 1000:\n",
            "   Order ID   Product  Quantity  Price  Total Sale\n",
            "0       101    Laptop         2  55000      110000\n",
            "1       102     Mouse         5    500        2500\n",
            "2       103  Keyboard         3   1500        4500\n",
            "3       104    Laptop         1  56000       56000\n",
            "4       105   Monitor         2  12000       24000\n",
            "5       106     Mouse        10    450        4500\n",
            "\n",
            "Most Sold Product(s):\n",
            "Product\n",
            "Mouse       15\n",
            "Keyboard     3\n",
            "Laptop       3\n",
            "Monitor      2\n",
            "Name: Quantity, dtype: int64\n",
            "\n",
            "DataFrame with Discount column:\n",
            "   Order ID   Product  Quantity  Price  Total Sale  Discount\n",
            "0       101    Laptop         2  55000      110000   11000.0\n",
            "1       102     Mouse         5    500        2500       0.0\n",
            "2       103  Keyboard         3   1500        4500       0.0\n",
            "3       104    Laptop         1  56000       56000    5600.0\n",
            "4       105   Monitor         2  12000       24000    1200.0\n",
            "5       106     Mouse        10    450        4500       0.0\n",
            "\n",
            "✅ Sales summary exported to 'sales_summary.xlsx'\n"
          ]
        }
      ],
      "source": [
        "import pandas as pd\n",
        "\n",
        "data = {\n",
        "    \"Order ID\": [101, 102, 103, 104, 105, 106],\n",
        "    \"Product\": [\"Laptop\", \"Mouse\", \"Keyboard\", \"Laptop\", \"Monitor\", \"Mouse\"],\n",
        "    \"Quantity\": [2, 5, 3, 1, 2, 10],\n",
        "    \"Price\": [55000, 500, 1500, 56000, 12000, 450]\n",
        "}\n",
        "\n",
        "df = pd.DataFrame(data)\n",
        "print(\"Initial DataFrame:\")\n",
        "print(df)\n",
        "\n",
        "df[\"Total Sale\"] = df[\"Quantity\"] * df[\"Price\"]\n",
        "print(\"\\nDataFrame with Total Sale column:\")\n",
        "print(df)\n",
        "\n",
        "high_sales = df[df[\"Total Sale\"] > 1000]\n",
        "print(\"\\nOrders with Total Sale > 1000:\")\n",
        "print(high_sales)\n",
        "\n",
        "most_sold = df.groupby(\"Product\")[\"Quantity\"].sum().sort_values(ascending=False)\n",
        "print(\"\\nMost Sold Product(s):\")\n",
        "print(most_sold)\n",
        "\n",
        "def calc_discount(amount):\n",
        "    if amount > 50000:\n",
        "        return amount * 0.10\n",
        "    elif amount > 10000:\n",
        "        return amount * 0.05\n",
        "    else:\n",
        "        return 0\n",
        "\n",
        "df[\"Discount\"] = df[\"Total Sale\"].apply(calc_discount)\n",
        "print(\"\\nDataFrame with Discount column:\")\n",
        "print(df)\n",
        "\n",
        "df.to_excel(\"sales_summary.xlsx\", index=False)\n",
        "print(\"\\n✅ Sales summary exported to 'sales_summary.xlsx'\")"
      ]
    }
  ]
}
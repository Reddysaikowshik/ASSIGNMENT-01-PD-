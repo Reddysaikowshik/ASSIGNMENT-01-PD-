{
  "nbformat": 4,
  "nbformat_minor": 0,
  "metadata": {
    "colab": {
      "provenance": [],
      "authorship_tag": "ABX9TyPeBZoLWmNhll6xur+dUnG7",
      "include_colab_link": true
    },
    "kernelspec": {
      "name": "python3",
      "display_name": "Python 3"
    },
    "language_info": {
      "name": "python"
    }
  },
  "cells": [
    {
      "cell_type": "markdown",
      "metadata": {
        "id": "view-in-github",
        "colab_type": "text"
      },
      "source": [
        "<a href=\"https://colab.research.google.com/github/Reddysaikowshik/PYTHON-FOR-DATA-SCIENCE/blob/main/Assignment_05_ipynb_(4th_Aug).ipynb\" target=\"_parent\"><img src=\"https://colab.research.google.com/assets/colab-badge.svg\" alt=\"Open In Colab\"/></a>"
      ]
    },
    {
      "cell_type": "code",
      "execution_count": 1,
      "metadata": {
        "colab": {
          "base_uri": "https://localhost:8080/",
          "height": 1000
        },
        "id": "4joPv2zFdxf6",
        "outputId": "e3e7464a-401c-48b3-82b9-00065ea41931"
      },
      "outputs": [
        {
          "output_type": "stream",
          "name": "stdout",
          "text": [
            "Original 3D Image Array:\n",
            " [[[226  76 222]\n",
            "  [  2  58 102]\n",
            "  [  7 100  47]]\n",
            "\n",
            " [[218 122  13]\n",
            "  [ 49  27 173]\n",
            "  [ 22 156 190]]\n",
            "\n",
            " [[ 74 231 175]\n",
            "  [236  62 225]\n",
            "  [139 118 142]]]\n",
            "\n",
            "Red Channel:\n",
            " [[226   2   7]\n",
            " [218  49  22]\n",
            " [ 74 236 139]]\n",
            "\n",
            "Green Channel:\n",
            " [[ 76  58 100]\n",
            " [122  27 156]\n",
            " [231  62 118]]\n",
            "\n",
            "Blue Channel:\n",
            " [[222 102  47]\n",
            " [ 13 173 190]\n",
            " [175 225 142]]\n",
            "\n",
            "Average Intensities -> Red: 108.11, Green: 105.56, Blue: 143.22\n",
            "\n",
            "Brightened Image Array:\n",
            " [[[ 20 126  16]\n",
            "  [ 52 108 152]\n",
            "  [ 57 150  97]]\n",
            "\n",
            " [[ 12 172  63]\n",
            "  [ 99  77 223]\n",
            "  [ 72 206 240]]\n",
            "\n",
            " [[124  25 225]\n",
            "  [ 30 112  19]\n",
            "  [189 168 192]]]\n"
          ]
        },
        {
          "output_type": "display_data",
          "data": {
            "text/plain": [
              "<Figure size 1200x400 with 4 Axes>"
            ],
            "image/png": "[encoded data removed]"
          },
          "metadata": {}
        },
        {
          "output_type": "display_data",
          "data": {
            "text/plain": [
              "<Figure size 600x300 with 2 Axes>"
            ],
            "image/png": "[encoded data removed]"
          },
          "metadata": {}
        }
      ],
      "source": [
        "import numpy as np\n",
        "import matplotlib.pyplot as plt\n",
        "\n",
        "image = np.random.randint(0, 256, (3, 3, 3), dtype=np.uint8)\n",
        "print(\"Original 3D Image Array:\\n\", image)\n",
        "\n",
        "red_channel   = image[:, :, 0]\n",
        "green_channel = image[:, :, 1]\n",
        "blue_channel  = image[:, :, 2]\n",
        "\n",
        "print(\"\\nRed Channel:\\n\", red_channel)\n",
        "print(\"\\nGreen Channel:\\n\", green_channel)\n",
        "print(\"\\nBlue Channel:\\n\", blue_channel)\n",
        "\n",
        "avg_red   = np.mean(red_channel)\n",
        "avg_green = np.mean(green_channel)\n",
        "avg_blue  = np.mean(blue_channel)\n",
        "\n",
        "print(f\"\\nAverage Intensities -> Red: {avg_red:.2f}, Green: {avg_green:.2f}, Blue: {avg_blue:.2f}\")\n",
        "\n",
        "brightened_image = np.clip(image + 50, 0, 255)\n",
        "print(\"\\nBrightened Image Array:\\n\", brightened_image)\n",
        "\n",
        "fig, axs = plt.subplots(1, 4, figsize=(12, 4))\n",
        "axs[0].imshow(image)\n",
        "axs[0].set_title(\"Original Image\")\n",
        "axs[0].axis(\"off\")\n",
        "\n",
        "axs[1].imshow(red_channel, cmap='Reds')\n",
        "axs[1].set_title(\"Red Channel\")\n",
        "axs[1].axis(\"off\")\n",
        "\n",
        "axs[2].imshow(green_channel, cmap='Greens')\n",
        "axs[2].set_title(\"Green Channel\")\n",
        "axs[2].axis(\"off\")\n",
        "\n",
        "axs[3].imshow(blue_channel, cmap='Blues')\n",
        "axs[3].set_title(\"Blue Channel\")\n",
        "axs[3].axis(\"off\")\n",
        "plt.show()\n",
        "\n",
        "plt.figure(figsize=(6,3))\n",
        "plt.subplot(1,2,1)\n",
        "plt.imshow(image)\n",
        "plt.title(\"Original\")\n",
        "plt.axis(\"off\")\n",
        "\n",
        "plt.subplot(1,2,2)\n",
        "plt.imshow(brightened_image)\n",
        "plt.title(\"Brightened (+50)\")\n",
        "plt.axis(\"off\")\n",
        "plt.show()\n"
      ]
    }
  ]
}
